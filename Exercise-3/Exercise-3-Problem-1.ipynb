{
 "cells": [
  {
   "cell_type": "markdown",
   "metadata": {
    "deletable": false,
    "editable": false
   },
   "source": [
    "## Problem 1: Geocode shopping centers (5 points)\n",
    "\n",
    "The overall aim of problems 1-3 is to find out **how many people live within a walking distance (1.5 km) from certain shopping centres in Helsinki**.\n",
    "\n",
    "Problem 1 concerns the locations of shopping centres: find their addresses and translate them into coordinates.\n",
    "\n",
    "---"
   ]
  },
  {
   "cell_type": "markdown",
   "metadata": {
    "deletable": false,
    "editable": false,
    "tags": []
   },
   "source": [
    "### a) Prepare an input file containing the addresses of shopping centres\n",
    "\n",
    "Find out the addresses of the following shopping centres (e.g., by using your favourite search engine), and collect them in a text file called `shopping_centres.txt`:\n",
    "\n",
    " - Itis\n",
    " - Forum\n",
    " - Iso-omena\n",
    " - Sello\n",
    " - Jumbo\n",
    " - REDI\n",
    " - Tripla \n",
    " \n",
    "The text file should be in semicolon-separated format (`;`) and include the following columns:\n",
    "\n",
    "- `id` (integer) a unique identifier for each shopping centre (a\n",
    "- `name` (string) of each shopping center\n",
    "- `addr` (string) the address \n",
    "\n",
    "\n",
    "See an example of how to format the text file [in the lesson 3 materials](https://autogis-site.readthedocs.io/en/latest/lessons/lesson-3/geocoding-in-geopandas.html). Remember to *add*, *commit*, and *push* the file to your git repository.\n",
    "\n",
    "---\n"
   ]
  },
  {
   "cell_type": "markdown",
   "metadata": {
    "deletable": false,
    "editable": false
   },
   "source": [
    "### b) Read the list of addresses\n",
    "\n",
    "Read the list of addresses you just prepared into a `pandas.DataFrame` called `shopping_centres`"
   ]
  },
  {
   "cell_type": "code",
   "execution_count": 86,
   "metadata": {},
   "outputs": [],
   "source": [
    "import pathlib\n",
    "import json\n",
    "import pandas as pd\n",
    "import geopandas as gpd\n",
    "from geopandas.tools import geocode\n",
    "\n",
    "NOTEBOOK_PATH = pathlib.Path().resolve()\n",
    "DATA_DIRECTORY = NOTEBOOK_PATH / \"data\""
   ]
  },
  {
   "cell_type": "code",
   "execution_count": 87,
   "metadata": {
    "scrolled": true
   },
   "outputs": [],
   "source": [
    "with open(\"query_7.json\", \"r\") as read_file:\n",
    "    json_data = json.load(read_file)\n",
    "json_to_df = json_data[\"features\"]"
   ]
  },
  {
   "cell_type": "code",
   "execution_count": 106,
   "metadata": {},
   "outputs": [
    {
     "data": {
      "text/html": [
       "<div>\n",
       "<style scoped>\n",
       "    .dataframe tbody tr th:only-of-type {\n",
       "        vertical-align: middle;\n",
       "    }\n",
       "\n",
       "    .dataframe tbody tr th {\n",
       "        vertical-align: top;\n",
       "    }\n",
       "\n",
       "    .dataframe thead th {\n",
       "        text-align: right;\n",
       "    }\n",
       "</style>\n",
       "<table border=\"1\" class=\"dataframe\">\n",
       "  <thead>\n",
       "    <tr style=\"text-align: right;\">\n",
       "      <th></th>\n",
       "      <th>id</th>\n",
       "      <th>name</th>\n",
       "      <th>addr</th>\n",
       "    </tr>\n",
       "  </thead>\n",
       "  <tbody>\n",
       "    <tr>\n",
       "      <th>0</th>\n",
       "      <td>1</td>\n",
       "      <td>Armazéns da Ajuda</td>\n",
       "      <td>Calçada da Ajuda, 89-93;, Ajuda, Lisbon, Portugal</td>\n",
       "    </tr>\n",
       "    <tr>\n",
       "      <th>1</th>\n",
       "      <td>30</td>\n",
       "      <td>Galerias Saldanha Residence</td>\n",
       "      <td>Avenida Fontes Pereira de Melo, 42-42E, Arroio...</td>\n",
       "    </tr>\n",
       "    <tr>\n",
       "      <th>2</th>\n",
       "      <td>3</td>\n",
       "      <td>Armazéns do Chiado</td>\n",
       "      <td>Rua Nova do Almada, 102-126;, Santa Maria Maio...</td>\n",
       "    </tr>\n",
       "    <tr>\n",
       "      <th>3</th>\n",
       "      <td>4</td>\n",
       "      <td>Centro Comercial e Cultural Espaço Chiado</td>\n",
       "      <td>Rua Nova da Trindade, 5-5G;, Santa Maria Maior...</td>\n",
       "    </tr>\n",
       "    <tr>\n",
       "      <th>4</th>\n",
       "      <td>7</td>\n",
       "      <td>Centro Comercial Mouraria</td>\n",
       "      <td>Rua Fernandes da Fonseca, 1-1B;, Santa Maria M...</td>\n",
       "    </tr>\n",
       "  </tbody>\n",
       "</table>\n",
       "</div>"
      ],
      "text/plain": [
       "   id                                       name  \\\n",
       "0   1                          Armazéns da Ajuda   \n",
       "1  30                Galerias Saldanha Residence   \n",
       "2   3                         Armazéns do Chiado   \n",
       "3   4  Centro Comercial e Cultural Espaço Chiado   \n",
       "4   7                  Centro Comercial Mouraria   \n",
       "\n",
       "                                                addr  \n",
       "0  Calçada da Ajuda, 89-93;, Ajuda, Lisbon, Portugal  \n",
       "1  Avenida Fontes Pereira de Melo, 42-42E, Arroio...  \n",
       "2  Rua Nova do Almada, 102-126;, Santa Maria Maio...  \n",
       "3  Rua Nova da Trindade, 5-5G;, Santa Maria Maior...  \n",
       "4  Rua Fernandes da Fonseca, 1-1B;, Santa Maria M...  "
      ]
     },
     "execution_count": 106,
     "metadata": {},
     "output_type": "execute_result"
    }
   ],
   "source": [
    "# ADD YOUR OWN CODE HERE\n",
    "my_list = []\n",
    "for feature in json_to_df:\n",
    "    my_list.append(\n",
    "        {'id': feature[\"id\"],\n",
    "         'name': feature[\"properties\"][\"INF_NOME\"],\n",
    "         'addr': f'{feature[\"properties\"][\"INF_MORADA\"]}, {feature[\"properties\"][\"FREGUESIA\"]}, Lisbon, Portugal'\n",
    "        }        \n",
    "    )\n",
    "shopping_centres = pd.DataFrame(my_list)\n",
    "shopping_centres"
   ]
  },
  {
   "cell_type": "code",
   "execution_count": 107,
   "metadata": {
    "deletable": false,
    "editable": false
   },
   "outputs": [],
   "source": [
    "# NON-EDITABLE CODE CELL FOR TESTING YOUR SOLUTION\n",
    "import pandas\n",
    "assert isinstance(shopping_centres, pandas.DataFrame)\n",
    "for column in (\"id\", \"name\", \"addr\"):\n",
    "    assert column in shopping_centres.columns"
   ]
  },
  {
   "cell_type": "markdown",
   "metadata": {
    "deletable": false,
    "editable": false
   },
   "source": [
    "\n",
    "---\n",
    "\n",
    "### c) Geocode the addresses\n",
    "\n",
    "Geocode the addresses using the Nominatim geocoding service. Join the results with the input data, and store them in a `geopandas.GeoDataFrame` with the same name (`shopping_centres`). \n",
    "\n",
    "Remember to define a custom `user_agent` string!"
   ]
  },
  {
   "cell_type": "code",
   "execution_count": 108,
   "metadata": {},
   "outputs": [
    {
     "data": {
      "text/html": [
       "<div>\n",
       "<style scoped>\n",
       "    .dataframe tbody tr th:only-of-type {\n",
       "        vertical-align: middle;\n",
       "    }\n",
       "\n",
       "    .dataframe tbody tr th {\n",
       "        vertical-align: top;\n",
       "    }\n",
       "\n",
       "    .dataframe thead th {\n",
       "        text-align: right;\n",
       "    }\n",
       "</style>\n",
       "<table border=\"1\" class=\"dataframe\">\n",
       "  <thead>\n",
       "    <tr style=\"text-align: right;\">\n",
       "      <th></th>\n",
       "      <th>geometry</th>\n",
       "      <th>address</th>\n",
       "    </tr>\n",
       "  </thead>\n",
       "  <tbody>\n",
       "    <tr>\n",
       "      <th>0</th>\n",
       "      <td>POINT (-9.19945 38.70381)</td>\n",
       "      <td>Calçada da Ajuda, Ajuda, Lisboa, 1300-008, Por...</td>\n",
       "    </tr>\n",
       "    <tr>\n",
       "      <th>1</th>\n",
       "      <td>POINT (-9.14599 38.73178)</td>\n",
       "      <td>Avenida Fontes Pereira de Melo, Saldanha, Arro...</td>\n",
       "    </tr>\n",
       "    <tr>\n",
       "      <th>2</th>\n",
       "      <td>POINT (-9.13916 38.70989)</td>\n",
       "      <td>Rua Nova do Almada, Chiado, Santa Maria Maior,...</td>\n",
       "    </tr>\n",
       "    <tr>\n",
       "      <th>3</th>\n",
       "      <td>POINT (-9.14242 38.71215)</td>\n",
       "      <td>Rua Nova da Trindade, Sacramento, Santa Maria ...</td>\n",
       "    </tr>\n",
       "    <tr>\n",
       "      <th>4</th>\n",
       "      <td>POINT (-9.13511 38.71676)</td>\n",
       "      <td>Rua Fernandes da Fonseca, Socorro, Santa Maria...</td>\n",
       "    </tr>\n",
       "  </tbody>\n",
       "</table>\n",
       "</div>"
      ],
      "text/plain": [
       "                    geometry  \\\n",
       "0  POINT (-9.19945 38.70381)   \n",
       "1  POINT (-9.14599 38.73178)   \n",
       "2  POINT (-9.13916 38.70989)   \n",
       "3  POINT (-9.14242 38.71215)   \n",
       "4  POINT (-9.13511 38.71676)   \n",
       "\n",
       "                                             address  \n",
       "0  Calçada da Ajuda, Ajuda, Lisboa, 1300-008, Por...  \n",
       "1  Avenida Fontes Pereira de Melo, Saldanha, Arro...  \n",
       "2  Rua Nova do Almada, Chiado, Santa Maria Maior,...  \n",
       "3  Rua Nova da Trindade, Sacramento, Santa Maria ...  \n",
       "4  Rua Fernandes da Fonseca, Socorro, Santa Maria...  "
      ]
     },
     "execution_count": 108,
     "metadata": {},
     "output_type": "execute_result"
    }
   ],
   "source": [
    "# ADD YOUR OWN CODE HERE\n",
    "geocoded_addresses = geocode(\n",
    "    shopping_centres[\"addr\"],\n",
    "    provider=\"nominatim\",\n",
    "    user_agent=\"autogis2022\",\n",
    "    timeout=10\n",
    ")\n",
    "geocoded_addresses.head()"
   ]
  },
  {
   "cell_type": "code",
   "execution_count": 109,
   "metadata": {
    "scrolled": true
   },
   "outputs": [],
   "source": [
    "shopping_centres = geocoded_addresses[[\"geometry\"]].join(shopping_centres)"
   ]
  },
  {
   "cell_type": "code",
   "execution_count": 110,
   "metadata": {},
   "outputs": [
    {
     "data": {
      "text/html": [
       "<div>\n",
       "<style scoped>\n",
       "    .dataframe tbody tr th:only-of-type {\n",
       "        vertical-align: middle;\n",
       "    }\n",
       "\n",
       "    .dataframe tbody tr th {\n",
       "        vertical-align: top;\n",
       "    }\n",
       "\n",
       "    .dataframe thead th {\n",
       "        text-align: right;\n",
       "    }\n",
       "</style>\n",
       "<table border=\"1\" class=\"dataframe\">\n",
       "  <thead>\n",
       "    <tr style=\"text-align: right;\">\n",
       "      <th></th>\n",
       "      <th>geometry</th>\n",
       "      <th>id</th>\n",
       "      <th>name</th>\n",
       "      <th>addr</th>\n",
       "    </tr>\n",
       "  </thead>\n",
       "  <tbody>\n",
       "    <tr>\n",
       "      <th>0</th>\n",
       "      <td>POINT (-9.19945 38.70381)</td>\n",
       "      <td>1</td>\n",
       "      <td>Armazéns da Ajuda</td>\n",
       "      <td>Calçada da Ajuda, 89-93;, Ajuda, Lisbon, Portugal</td>\n",
       "    </tr>\n",
       "    <tr>\n",
       "      <th>1</th>\n",
       "      <td>POINT (-9.14599 38.73178)</td>\n",
       "      <td>30</td>\n",
       "      <td>Galerias Saldanha Residence</td>\n",
       "      <td>Avenida Fontes Pereira de Melo, 42-42E, Arroio...</td>\n",
       "    </tr>\n",
       "    <tr>\n",
       "      <th>2</th>\n",
       "      <td>POINT (-9.13916 38.70989)</td>\n",
       "      <td>3</td>\n",
       "      <td>Armazéns do Chiado</td>\n",
       "      <td>Rua Nova do Almada, 102-126;, Santa Maria Maio...</td>\n",
       "    </tr>\n",
       "    <tr>\n",
       "      <th>3</th>\n",
       "      <td>POINT (-9.14242 38.71215)</td>\n",
       "      <td>4</td>\n",
       "      <td>Centro Comercial e Cultural Espaço Chiado</td>\n",
       "      <td>Rua Nova da Trindade, 5-5G;, Santa Maria Maior...</td>\n",
       "    </tr>\n",
       "    <tr>\n",
       "      <th>4</th>\n",
       "      <td>POINT (-9.13511 38.71676)</td>\n",
       "      <td>7</td>\n",
       "      <td>Centro Comercial Mouraria</td>\n",
       "      <td>Rua Fernandes da Fonseca, 1-1B;, Santa Maria M...</td>\n",
       "    </tr>\n",
       "  </tbody>\n",
       "</table>\n",
       "</div>"
      ],
      "text/plain": [
       "                    geometry  id                                       name  \\\n",
       "0  POINT (-9.19945 38.70381)   1                          Armazéns da Ajuda   \n",
       "1  POINT (-9.14599 38.73178)  30                Galerias Saldanha Residence   \n",
       "2  POINT (-9.13916 38.70989)   3                         Armazéns do Chiado   \n",
       "3  POINT (-9.14242 38.71215)   4  Centro Comercial e Cultural Espaço Chiado   \n",
       "4  POINT (-9.13511 38.71676)   7                  Centro Comercial Mouraria   \n",
       "\n",
       "                                                addr  \n",
       "0  Calçada da Ajuda, 89-93;, Ajuda, Lisbon, Portugal  \n",
       "1  Avenida Fontes Pereira de Melo, 42-42E, Arroio...  \n",
       "2  Rua Nova do Almada, 102-126;, Santa Maria Maio...  \n",
       "3  Rua Nova da Trindade, 5-5G;, Santa Maria Maior...  \n",
       "4  Rua Fernandes da Fonseca, 1-1B;, Santa Maria M...  "
      ]
     },
     "execution_count": 110,
     "metadata": {},
     "output_type": "execute_result"
    }
   ],
   "source": [
    "shopping_centres"
   ]
  },
  {
   "cell_type": "code",
   "execution_count": 111,
   "metadata": {
    "deletable": false,
    "editable": false,
    "scrolled": true
   },
   "outputs": [],
   "source": [
    "# NON-EDITABLE CODE CELL FOR TESTING YOUR SOLUTION\n",
    "import geopandas\n",
    "assert isinstance(shopping_centres, geopandas.GeoDataFrame)\n",
    "for column in (\"id\", \"name\", \"addr\", \"geometry\"):\n",
    "    assert column in shopping_centres.columns"
   ]
  },
  {
   "cell_type": "markdown",
   "metadata": {
    "deletable": false,
    "editable": false
   },
   "source": [
    "Check that the coordinate reference system of the geocoded result is correctly defined, and **reproject the layer into ETRS GK-25** (EPSG:3879):"
   ]
  },
  {
   "cell_type": "code",
   "execution_count": 112,
   "metadata": {},
   "outputs": [],
   "source": [
    "# ADD YOUR OWN CODE HERE\n",
    "shopping_centres = shopping_centres.to_crs(\"EPSG:3879\")"
   ]
  },
  {
   "cell_type": "code",
   "execution_count": 113,
   "metadata": {
    "deletable": false,
    "editable": false
   },
   "outputs": [],
   "source": [
    "# NON-EDITABLE CODE CELL FOR TESTING YOUR SOLUTION\n",
    "import pyproj\n",
    "assert shopping_centres.crs == pyproj.CRS(\"EPSG:3879\")"
   ]
  },
  {
   "cell_type": "code",
   "execution_count": 115,
   "metadata": {},
   "outputs": [],
   "source": [
    "# reprojecting back to ETRS89 / Portugal TM06: EPSG:3763 because EPSG:3879 is the Projected coordinate system for Finland. I am considering POrtuguese shopping centers.\n",
    "shopping_centres = shopping_centres.to_crs(\"EPSG:3763\")"
   ]
  },
  {
   "cell_type": "markdown",
   "metadata": {
    "deletable": false,
    "editable": false
   },
   "source": [
    "\n",
    "---\n",
    "\n",
    "### d) Save the resulting vector data set\n",
    "\n",
    "Save `shopping_centres` as a *GeoPackage* named `shopping_centres.gpkg`:"
   ]
  },
  {
   "cell_type": "code",
   "execution_count": 116,
   "metadata": {},
   "outputs": [],
   "source": [
    "# ADD YOUR OWN CODE HERE\n",
    "shopping_centres.to_file('shopping_centres.gpkg', driver='GPKG')"
   ]
  },
  {
   "cell_type": "markdown",
   "metadata": {
    "deletable": false,
    "editable": false
   },
   "source": [
    "\n",
    "---\n",
    "\n",
    "Well done! Now you can continue to [problem 2](Exercise-3-Problem-2.ipynb)"
   ]
  }
 ],
 "metadata": {
  "anaconda-cloud": {},
  "kernelspec": {
   "display_name": "Python 3 (ipykernel)",
   "language": "python",
   "name": "python3"
  },
  "language_info": {
   "codemirror_mode": {
    "name": "ipython",
    "version": 3
   },
   "file_extension": ".py",
   "mimetype": "text/x-python",
   "name": "python",
   "nbconvert_exporter": "python",
   "pygments_lexer": "ipython3",
   "version": "3.10.12"
  }
 },
 "nbformat": 4,
 "nbformat_minor": 4
}
