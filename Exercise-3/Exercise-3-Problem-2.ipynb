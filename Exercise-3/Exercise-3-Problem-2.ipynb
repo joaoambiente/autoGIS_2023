{
 "cells": [
  {
   "cell_type": "markdown",
   "metadata": {
    "deletable": false,
    "editable": false
   },
   "source": [
    "## Problem 2: Create buffers around shopping centers (7 points)\n",
    "\n",
    "Let’s continue with our case study and calculate a 1.5 km buffer around the geocoded points. "
   ]
  },
  {
   "cell_type": "markdown",
   "metadata": {
    "deletable": false,
    "editable": false
   },
   "source": [
    "### a) Load the shopping centre data set\n",
    "\n",
    "First, load the shopping centre *point* data set you created in *problem 1* into a `GeoDataFrame` called `shopping_centres`."
   ]
  },
  {
   "cell_type": "code",
   "execution_count": 2,
   "metadata": {},
   "outputs": [],
   "source": [
    "import pathlib\n",
    "import geopandas as gpd"
   ]
  },
  {
   "cell_type": "code",
   "execution_count": 10,
   "metadata": {},
   "outputs": [
    {
     "data": {
      "text/html": [
       "<div>\n",
       "<style scoped>\n",
       "    .dataframe tbody tr th:only-of-type {\n",
       "        vertical-align: middle;\n",
       "    }\n",
       "\n",
       "    .dataframe tbody tr th {\n",
       "        vertical-align: top;\n",
       "    }\n",
       "\n",
       "    .dataframe thead th {\n",
       "        text-align: right;\n",
       "    }\n",
       "</style>\n",
       "<table border=\"1\" class=\"dataframe\">\n",
       "  <thead>\n",
       "    <tr style=\"text-align: right;\">\n",
       "      <th></th>\n",
       "      <th>id</th>\n",
       "      <th>name</th>\n",
       "      <th>addr</th>\n",
       "      <th>geometry</th>\n",
       "    </tr>\n",
       "  </thead>\n",
       "  <tbody>\n",
       "    <tr>\n",
       "      <th>0</th>\n",
       "      <td>1</td>\n",
       "      <td>Armazéns da Ajuda</td>\n",
       "      <td>Calçada da Ajuda, 89-93;, Ajuda, Lisbon, Portugal</td>\n",
       "      <td>POINT (-92758.677 -106532.364)</td>\n",
       "    </tr>\n",
       "    <tr>\n",
       "      <th>1</th>\n",
       "      <td>30</td>\n",
       "      <td>Galerias Saldanha Residence</td>\n",
       "      <td>Avenida Fontes Pereira de Melo, 42-42E, Arroio...</td>\n",
       "      <td>POINT (-88073.837 -103479.552)</td>\n",
       "    </tr>\n",
       "    <tr>\n",
       "      <th>2</th>\n",
       "      <td>3</td>\n",
       "      <td>Armazéns do Chiado</td>\n",
       "      <td>Rua Nova do Almada, 102-126;, Santa Maria Maio...</td>\n",
       "      <td>POINT (-87506.375 -105917.208)</td>\n",
       "    </tr>\n",
       "    <tr>\n",
       "      <th>3</th>\n",
       "      <td>4</td>\n",
       "      <td>Centro Comercial e Cultural Espaço Chiado</td>\n",
       "      <td>Rua Nova da Trindade, 5-5G;, Santa Maria Maior...</td>\n",
       "      <td>POINT (-87786.909 -105662.989)</td>\n",
       "    </tr>\n",
       "    <tr>\n",
       "      <th>4</th>\n",
       "      <td>7</td>\n",
       "      <td>Centro Comercial Mouraria</td>\n",
       "      <td>Rua Fernandes da Fonseca, 1-1B;, Santa Maria M...</td>\n",
       "      <td>POINT (-87145.858 -105157.459)</td>\n",
       "    </tr>\n",
       "  </tbody>\n",
       "</table>\n",
       "</div>"
      ],
      "text/plain": [
       "   id                                       name  \\\n",
       "0   1                          Armazéns da Ajuda   \n",
       "1  30                Galerias Saldanha Residence   \n",
       "2   3                         Armazéns do Chiado   \n",
       "3   4  Centro Comercial e Cultural Espaço Chiado   \n",
       "4   7                  Centro Comercial Mouraria   \n",
       "\n",
       "                                                addr  \\\n",
       "0  Calçada da Ajuda, 89-93;, Ajuda, Lisbon, Portugal   \n",
       "1  Avenida Fontes Pereira de Melo, 42-42E, Arroio...   \n",
       "2  Rua Nova do Almada, 102-126;, Santa Maria Maio...   \n",
       "3  Rua Nova da Trindade, 5-5G;, Santa Maria Maior...   \n",
       "4  Rua Fernandes da Fonseca, 1-1B;, Santa Maria M...   \n",
       "\n",
       "                         geometry  \n",
       "0  POINT (-92758.677 -106532.364)  \n",
       "1  POINT (-88073.837 -103479.552)  \n",
       "2  POINT (-87506.375 -105917.208)  \n",
       "3  POINT (-87786.909 -105662.989)  \n",
       "4  POINT (-87145.858 -105157.459)  "
      ]
     },
     "execution_count": 10,
     "metadata": {},
     "output_type": "execute_result"
    }
   ],
   "source": [
    "# ADD YOUR OWN CODE HERE\n",
    "NOTEBOOK_PATH = pathlib.Path().resolve()\n",
    "file_path = NOTEBOOK_PATH / \"shopping_centres.gpkg\"\n",
    "\n",
    "shopping_centres = gpd.read_file(file_path)\n",
    "shopping_centres"
   ]
  },
  {
   "cell_type": "markdown",
   "metadata": {
    "deletable": false,
    "editable": false
   },
   "source": [
    "\n",
    "---\n",
    "\n",
    "### b) Create a *buffer* around the points\n",
    "\n",
    "Calculate a 1.5 km buffer for each geocoded point. Overwrite the `geometry` column with the new buffer geometry.\n",
    "\n",
    "Use the [`geopandas.GeoDataFrame.buffer()` method](http://geopandas.org/geometric_manipulations.html#GeoSeries.buffer), that uses shapely’s [`buffer()`](http://toblerity.org/shapely/manual.html#object.buffer) in the background. You only need to care about the `distance` parameter, don’t worry about the possible other arguments."
   ]
  },
  {
   "cell_type": "code",
   "execution_count": 17,
   "metadata": {},
   "outputs": [],
   "source": [
    "# ADD YOUR OWN CODE HERE\n",
    "\n",
    "shopping_centres[\"geometry\"] = shopping_centres[\"geometry\"].apply(lambda x: x.buffer(1500))"
   ]
  },
  {
   "cell_type": "code",
   "execution_count": 18,
   "metadata": {
    "deletable": false,
    "editable": false
   },
   "outputs": [],
   "source": [
    "# NON-EDITABLE CODE CELL FOR TESTING YOUR SOLUTION\n",
    "assert shopping_centres.geometry.geom_type.unique() == [\"Polygon\"]"
   ]
  },
  {
   "cell_type": "markdown",
   "metadata": {
    "deletable": false,
    "editable": false
   },
   "source": [
    "\n",
    "---\n",
    "\n",
    "### d) Save buffer geometry layer\n",
    "\n",
    "Save the data frame containing the buffer geometries into a new layer `buffers` inside the same *GeoPackage* `shopping_centres.gpkg`:"
   ]
  },
  {
   "cell_type": "code",
   "execution_count": 19,
   "metadata": {},
   "outputs": [],
   "source": [
    "# ADD YOUR OWN CODE HERE\n",
    "buffers = shopping_centres.to_file('shopping_centres.gpkg', driver='GPKG', layer=\"buffers\")"
   ]
  },
  {
   "cell_type": "code",
   "execution_count": null,
   "metadata": {},
   "outputs": [],
   "source": []
  }
 ],
 "metadata": {
  "anaconda-cloud": {},
  "kernelspec": {
   "display_name": "Python 3 (ipykernel)",
   "language": "python",
   "name": "python3"
  },
  "language_info": {
   "codemirror_mode": {
    "name": "ipython",
    "version": 3
   },
   "file_extension": ".py",
   "mimetype": "text/x-python",
   "name": "python",
   "nbconvert_exporter": "python",
   "pygments_lexer": "ipython3",
   "version": "3.10.12"
  }
 },
 "nbformat": 4,
 "nbformat_minor": 4
}
