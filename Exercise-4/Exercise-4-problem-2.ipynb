{
 "cells": [
  {
   "cell_type": "markdown",
   "metadata": {
    "deletable": false,
    "editable": false,
    "tags": []
   },
   "source": [
    "## Problem 2: Calculate and visualise the *dominance areas* of shopping centres (10 points)\n",
    "\n",
    "In this problem, the aim is to delineate the dominance area of each shopping centre. For this \n",
    "exercise, we define the ‘dominance area’ of a shopping centre as the area from which it can \n",
    "be reached faster than other shopping centres. We will use public transport travel times.\n",
    "\n",
    "![](images/dominance_areas_example_1000x500px.png)\n",
    "\n",
    "*Sample result: a map showing the areas of dominance of each shopping centre, and the travel \n",
    "times to the closest shopping centre in the entire metropolitan area*\n"
   ]
  },
  {
   "cell_type": "markdown",
   "metadata": {
    "deletable": false,
    "editable": false
   },
   "source": [
    "\n",
    "---\n",
    "\n",
    "### Data\n",
    "\n",
    "The **input data** is identical to what you have used for *problem 1*, \n",
    "see [there](./Exercise-4-problem-1.ipynb) for detailed data descriptions.\n",
    "\n",
    "---\n",
    "\n",
    "\n",
    "### An overview of the tasks\n",
    "\n",
    "This task comprises of three major subtasks. In contrast to earlier exercises, we \n",
    "do not provide a detailed, step-by-step ‘cooking recipe’. Rather, you are free to\n",
    "implement the necessary steps in any order you see fit, and choose any variable\n",
    "names of your liking. \n",
    "\n",
    "To test intermediate results, implement `assert` statements, output the `head()`\n",
    "of a data frame, or plot the data. Remember to add comments to all of your code,\n",
    "so future you (and us) can understand what each section does.\n",
    "\n",
    "The **only strict requirement** is the **file name** of\n",
    "the **output** map plot: `DATA_DIRECTORY / \"dominance_areas.png\"`.\n",
    "\n",
    "1. Load the YKR grid and the individual travel time data sets, and combine them \n",
    "   into one geo data frame. This is essentially the same as *problem 1*, except\n",
    "   that you must load all eight shopping centre data files.\n",
    "2. Find the closest shopping centre to each grid cell. In the combined data set,\n",
    "   find the minimum travel time to any of the shopping centres, save the value in\n",
    "   a new column, and shopping centre name in another new column.\n",
    "   See the [hints](https://autogis-site.readthedocs.io/en/latest/lessons/lesson-4/exercise-4.html#hints)\n",
    "   to this exercise for a suggestions on how to achieve this \n",
    "   ([`pandas.DataFrame.min()`](https://pandas.pydata.org/pandas-docs/stable/reference/api/pandas.DataFrame.min.html) and\n",
    "   [`pandas.DataFrame.idxmin()`](https://pandas.pydata.org/pandas-docs/stable/reference/api/pandas.DataFrame.idxmin.html)\n",
    "   will be helpful)\n",
    "3. Visualise the dominance areas and travel times. Use 2⨉1 subplots to plot\n",
    "   the most dominant (closest) shopping centre for each grid cell, and the\n",
    "   travel time to the closest shopping centre for each grid cell.\n",
    "\n",
    "---\n"
   ]
  },
  {
   "cell_type": "code",
   "execution_count": 1,
   "metadata": {
    "deletable": false,
    "editable": false
   },
   "outputs": [],
   "source": [
    "import pathlib \n",
    "NOTEBOOK_PATH = pathlib.Path().resolve()\n",
    "DATA_DIRECTORY = NOTEBOOK_PATH / \"data\""
   ]
  },
  {
   "cell_type": "code",
   "execution_count": 2,
   "metadata": {
    "tags": []
   },
   "outputs": [
    {
     "name": "stderr",
     "output_type": "stream",
     "text": [
      "/tmp/ipykernel_32729/1794029931.py:3: DeprecationWarning: Shapely 2.0 is installed, but because PyGEOS is also installed, GeoPandas still uses PyGEOS by default. However, starting with version 0.14, the default will switch to Shapely. To force to use Shapely 2.0 now, you can either uninstall PyGEOS or set the environment variable USE_PYGEOS=0. You can do this before starting the Python process, or in your code before importing geopandas:\n",
      "\n",
      "import os\n",
      "os.environ['USE_PYGEOS'] = '0'\n",
      "import geopandas\n",
      "\n",
      "In the next release, GeoPandas will switch to using Shapely by default, even if PyGEOS is installed. If you only have PyGEOS installed to get speed-ups, this switch should be smooth. However, if you are using PyGEOS directly (calling PyGEOS functions on geometries from GeoPandas), this will then stop working and you are encouraged to migrate from PyGEOS to Shapely 2.0 (https://shapely.readthedocs.io/en/latest/migration_pygeos.html).\n",
      "  import geopandas as gpd\n"
     ]
    }
   ],
   "source": [
    "# ADD YOUR OWN CODE HERE\n",
    "# Imports\n",
    "import geopandas as gpd\n",
    "import pandas as pd\n",
    "import numpy as np\n",
    "import mapclassify\n",
    "import matplotlib.pyplot as plt\n",
    "import glob"
   ]
  },
  {
   "cell_type": "code",
   "execution_count": 111,
   "metadata": {},
   "outputs": [],
   "source": [
    "# Read grid\n",
    "grid = gpd.read_file(DATA_DIRECTORY/\"YKR_grid_EPSG3067.gpkg\")\n",
    "\n",
    "# Read csv files\n",
    "# Get filenames\n",
    "txt_files = glob.glob(DATA_DIRECTORY.as_posix() + \"/\" + \"*.txt\")\n",
    "\n",
    "# Create a dictionary of df's for each filename\n",
    "dfs = {}\n",
    "\n",
    "for file in txt_files:\n",
    "    # Read the .txt file into a DataFrame\n",
    "    df = pd.read_csv(file, sep=\";\")\n",
    "    df = df[['from_id', 'pt_r_t']]\n",
    "    df[\"pt_r_t\"] = df[\"pt_r_t\"].replace(-1, np.nan)\n",
    "    df.dropna(inplace=True)\n",
    "    df.reset_index(inplace=True, drop=True)\n",
    "    file_name = file.split(\"/\")[-1].split(\"_\")[-1][:-4]\n",
    "    df.rename(inplace=True, columns={\"pt_r_t\":f\"pt_r_t_{file_name}\"})\n",
    "    grid = grid.set_index(\"YKR_ID\").join(df.set_index(\"from_id\"), rsuffix=f\"_{file_name}\").reset_index()\n",
    "\n",
    "grid.dropna(inplace=True)\n",
    "grid.reset_index(inplace=True, drop=True)"
   ]
  },
  {
   "cell_type": "code",
   "execution_count": 112,
   "metadata": {
    "tags": []
   },
   "outputs": [],
   "source": [
    "# ADD YOUR OWN CODE HERE\n",
    "grid[\"min_pt_r_t\"] = 0\n",
    "grid[\"Shopping_Center\"] = 0\n",
    "\n",
    "grid[\"min_pt_r_t\"] = grid.iloc[:, :-2].iloc[:, -7:].min(axis=1)\n",
    "grid[\"Shopping_Center\"] = grid.iloc[:, :-2].iloc[:, -7:].idxmin(axis=1)"
   ]
  },
  {
   "cell_type": "code",
   "execution_count": 114,
   "metadata": {},
   "outputs": [
    {
     "data": {
      "text/plain": [
       "Shopping_Center\n",
       "pt_r_t_Myyrmanni     3635\n",
       "pt_r_t_Omena         3413\n",
       "pt_r_t_Itis          1897\n",
       "pt_r_t_Dixi          1751\n",
       "pt_r_t_Jumbo         1113\n",
       "pt_r_t_Forum          804\n",
       "pt_r_t_Ruoholahti     407\n",
       "Name: count, dtype: int64"
      ]
     },
     "execution_count": 114,
     "metadata": {},
     "output_type": "execute_result"
    }
   ],
   "source": []
  },
  {
   "cell_type": "code",
   "execution_count": null,
   "metadata": {
    "deletable": false,
    "editable": false,
    "tags": []
   },
   "outputs": [],
   "source": [
    "# NON-EDITABLE TEST CELL\n",
    "# Check that output figure file exists\n",
    "assert (DATA_DIRECTORY / \"dominance_areas.png\").exists()"
   ]
  },
  {
   "cell_type": "markdown",
   "metadata": {
    "deletable": false,
    "editable": false
   },
   "source": [
    "\n",
    "--- \n",
    "\n",
    "**Do not forget to plot the result map, and save it to `DATA_DIRECTORY / \"dominance_areas.png\"`!**\n",
    "\n",
    "---\n",
    "\n",
    "## Reflections\n",
    "\n",
    "This was a significantly more complex exercise that previous ones, and it included finding\n",
    "a solution yourself. \n",
    "\n",
    "- What was most difficult part? \n",
    "- Where did you get stuck? \n",
    "- What was the easiest, and\n",
    "- what was the most fun part of this exercise?\n",
    "\n",
    "Add your answer below"
   ]
  },
  {
   "cell_type": "markdown",
   "metadata": {
    "deletable": false,
    "editable": false
   },
   "source": [
    "\n",
    "---\n",
    "\n",
    "## Well done!\n",
    "\n",
    "Congratulations, you completed exercise 4. Good Job!"
   ]
  }
 ],
 "metadata": {
  "anaconda-cloud": {},
  "kernelspec": {
   "display_name": "Python 3 (ipykernel)",
   "language": "python",
   "name": "python3"
  },
  "language_info": {
   "codemirror_mode": {
    "name": "ipython",
    "version": 3
   },
   "file_extension": ".py",
   "mimetype": "text/x-python",
   "name": "python",
   "nbconvert_exporter": "python",
   "pygments_lexer": "ipython3",
   "version": "3.10.12"
  }
 },
 "nbformat": 4,
 "nbformat_minor": 4
}
